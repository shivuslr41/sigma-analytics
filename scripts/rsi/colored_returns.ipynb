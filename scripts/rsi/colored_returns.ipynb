{
 "cells": [
  {
   "cell_type": "markdown",
   "id": "8e73d3c4",
   "metadata": {},
   "source": [
    "**user_message:**\n",
    "\n",
    "I uploaded the file: `returns.csv`\n",
    "\n",
    "I want to color the cells based on returns, negative numbers should be red gradient(light red for near to 0 negative numbers, dark red for far to 0 negative numbers) and positive numbers should be green color gradient (light green for near to 0 positive numbers and dark green for far to 0 positive numbers)"
   ]
  },
  {
   "cell_type": "code",
   "execution_count": null,
   "id": "aba3726a",
   "metadata": {},
   "outputs": [],
   "source": [
    "# Importing necessary libraries\n",
    "import pandas as pd\n",
    "import seaborn as sns\n",
    "import matplotlib.pyplot as plt\n",
    "from matplotlib.colors import LinearSegmentedColormap\n",
    "\n",
    "# Load the data\n",
    "file_path = 'returns.csv'\n",
    "data = pd.read_csv(file_path)\n",
    "\n",
    "# Displaying the first few rows to understand the structure of the data\n",
    "print(data.head())"
   ]
  },
  {
   "cell_type": "code",
   "execution_count": null,
   "id": "d61b069d",
   "metadata": {},
   "outputs": [],
   "source": [
    "# Create a styled DataFrame with color gradients\n",
    "def color_scale(val):\n",
    "    if val < 0:\n",
    "        # Red gradient for negative values\n",
    "        color = f'background-color: rgba(255, 0, 0, {min(abs(val/100), 1)})'\n",
    "    else:\n",
    "        # Green gradient for positive values\n",
    "        color = f'background-color: rgba(0, 255, 0, {min(val/100, 1)})'\n",
    "    return color\n",
    "\n",
    "# Apply styling to all numeric columns\n",
    "numeric_columns = data.select_dtypes(include=['float64', 'int64']).columns\n",
    "styled_df = data.style.applymap(color_scale, subset=numeric_columns)\n",
    "\n",
    "# Save to HTML\n",
    "styled_df.to_html('colored_returns.html')\n",
    "\n",
    "print(\"Created colored returns table and saved as 'colored_returns.html'\")"
   ]
  },
  {
   "cell_type": "markdown",
   "id": "3f869b49",
   "metadata": {},
   "source": [
    "**ai_message:**\n",
    "\n",
    "I've created a color-coded table where:\n",
    "- Red gradients show negative returns (darker = more negative)\n",
    "- Green gradients show positive returns (darker = more positive)\n",
    "\n",
    "The table has been saved as 'colored_returns.html' which you can download.\n",
    "\n",
    "What would you like to analyze next?"
   ]
  },
  {
   "cell_type": "markdown",
   "id": "24388d94",
   "metadata": {},
   "source": [
    "**user_message:**\n",
    "\n",
    "where can I download colored_returns.html?"
   ]
  },
  {
   "cell_type": "markdown",
   "id": "ec5ae352",
   "metadata": {},
   "source": [
    "**ai_message:**\n",
    "\n",
    "You can download the colored returns table at https://julius.ai/files?filename=colored_returns.html\n",
    "\n",
    "What would you like to analyze next?"
   ]
  }
 ],
 "metadata": {},
 "nbformat": 4,
 "nbformat_minor": 5
}